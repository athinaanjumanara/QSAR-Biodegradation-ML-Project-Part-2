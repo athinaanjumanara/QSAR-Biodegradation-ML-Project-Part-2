{
 "cells": [
  {
   "cell_type": "markdown",
   "id": "af8810b3",
   "metadata": {},
   "source": [
    "# Anjumanara Athina(155142)\n",
    "# Lim Wei Sen (154151)\n",
    "# Nicolas Chuang Hui Jiang (152504)\n",
    "# Ong Jia Jie (153818)"
   ]
  },
  {
   "cell_type": "markdown",
   "id": "d9c7eb02",
   "metadata": {},
   "source": [
    "# Neural Network"
   ]
  },
  {
   "cell_type": "code",
   "execution_count": 1,
   "id": "63f397c9",
   "metadata": {},
   "outputs": [],
   "source": [
    "#pip install tensorflow\n",
    "#tensorflow is installed to use neural network"
   ]
  },
  {
   "cell_type": "code",
   "execution_count": 2,
   "id": "5c442ad6",
   "metadata": {},
   "outputs": [],
   "source": [
    "import warnings\n",
    "warnings.filterwarnings('ignore')\n",
    "import pandas as pd\n",
    "import numpy as np\n",
    "import tensorflow as tf\n",
    "%config Completer.use_jedi = False"
   ]
  },
  {
   "cell_type": "code",
   "execution_count": 3,
   "id": "25876a3f",
   "metadata": {},
   "outputs": [
    {
     "name": "stdout",
     "output_type": "stream",
     "text": [
      "\n"
     ]
    }
   ],
   "source": [
    "print(tf.test.gpu_device_name())\n",
    "# to see if gpu is available"
   ]
  },
  {
   "cell_type": "code",
   "execution_count": 4,
   "id": "43d02134",
   "metadata": {},
   "outputs": [],
   "source": [
    "df = pd.read_csv('biodeg.csv', sep=';') #read dataset"
   ]
  },
  {
   "cell_type": "code",
   "execution_count": 5,
   "id": "3c0e109f",
   "metadata": {},
   "outputs": [
    {
     "name": "stdout",
     "output_type": "stream",
     "text": [
      "      SpMax_L  J_Dz(e)  nHM  F01[N-N]  F04[C-N]  NssssC  nCb-    C%  nCp  nO  \\\n",
      "0       3.919   2.6909    0         0         0       0     0  31.4    2   0   \n",
      "1       4.170   2.1144    0         0         0       0     0  30.8    1   1   \n",
      "2       3.932   3.2512    0         0         0       0     0  26.7    2   4   \n",
      "3       3.000   2.7098    0         0         0       0     0  20.0    0   2   \n",
      "4       4.236   3.3944    0         0         0       0     0  29.4    2   4   \n",
      "...       ...      ...  ...       ...       ...     ...   ...   ...  ...  ..   \n",
      "1050    5.431   2.8955    0         0         0       2     0  32.1    4   1   \n",
      "1051    5.287   3.3732    0         0         9       0     0  35.3    0   9   \n",
      "1052    4.869   1.7670    0         1         9       0     5  44.4    0   4   \n",
      "1053    5.158   1.6914    2         0        36       0     9  56.1    0   0   \n",
      "1054    5.076   2.6588    2         0         0       0     4  54.5    0   0   \n",
      "\n",
      "      ...  C-026  F02[C-N]  nHDon  SpMax_B(m)  Psi_i_A  nN  SM6_B(m)  nArCOOR  \\\n",
      "0     ...      0         0      0       2.949    1.591   0     7.253        0   \n",
      "1     ...      0         0      0       3.315    1.967   0     7.257        0   \n",
      "2     ...      0         0      1       3.076    2.417   0     7.601        0   \n",
      "3     ...      0         0      1       3.046    5.000   0     6.690        0   \n",
      "4     ...      0         0      0       3.351    2.405   0     8.003        0   \n",
      "...   ...    ...       ...    ...         ...      ...  ..       ...      ...   \n",
      "1050  ...      0         6      1       3.573    2.242   1     8.088        0   \n",
      "1051  ...      0         3      0       3.787    3.083   3     9.278        0   \n",
      "1052  ...      4        13      0       3.848    2.576   5     9.537        1   \n",
      "1053  ...      1        16      0       5.808    2.055   8    11.055        0   \n",
      "1054  ...      2         0      0       4.009    2.206   0     9.130        0   \n",
      "\n",
      "      nX  experimental_class  \n",
      "0      0                  RB  \n",
      "1      0                  RB  \n",
      "2      0                  RB  \n",
      "3      0                  RB  \n",
      "4      0                  RB  \n",
      "...   ..                 ...  \n",
      "1050   0                 NRB  \n",
      "1051   0                 NRB  \n",
      "1052   0                 NRB  \n",
      "1053   1                 NRB  \n",
      "1054   2                 NRB  \n",
      "\n",
      "[1055 rows x 42 columns]\n"
     ]
    }
   ],
   "source": [
    "print(df)"
   ]
  },
  {
   "cell_type": "code",
   "execution_count": 6,
   "id": "e73d3a50",
   "metadata": {},
   "outputs": [
    {
     "data": {
      "text/plain": [
       "Index(['SpMax_L', 'J_Dz(e)', 'nHM', 'F01[N-N]', 'F04[C-N]', 'NssssC', 'nCb-',\n",
       "       'C%', 'nCp', 'nO', 'F03[C-N]', 'SdssC', 'HyWi_B(m)', 'LOC', 'SM6_L',\n",
       "       'F03[C-O]', 'Me', 'Mi', 'nN-N', 'nArNO2', 'nCRX3', 'SpPosA_B(p)',\n",
       "       'nCIR', 'B01[C-Br]', 'B03[C-Cl]', 'N-073', 'SpMax_A', 'Psi_i_1d',\n",
       "       'B04[C-Br]', 'SdO', 'TI2_L', 'nCrt', 'C-026', 'F02[C-N]', 'nHDon',\n",
       "       'SpMax_B(m)', 'Psi_i_A', 'nN', 'SM6_B(m)', 'nArCOOR', 'nX',\n",
       "       'experimental_class'],\n",
       "      dtype='object')"
      ]
     },
     "execution_count": 6,
     "metadata": {},
     "output_type": "execute_result"
    }
   ],
   "source": [
    "df.keys()#get parameters and response"
   ]
  },
  {
   "cell_type": "code",
   "execution_count": 7,
   "id": "947f659f",
   "metadata": {},
   "outputs": [
    {
     "name": "stdout",
     "output_type": "stream",
     "text": [
      "(1055, 41)\n",
      "(1055,)\n"
     ]
    }
   ],
   "source": [
    "X = df[['SpMax_L', 'J_Dz(e)', 'nHM', 'F01[N-N]', 'F04[C-N]', 'NssssC', 'nCb-',\n",
    "       'C%', 'nCp', 'nO', 'F03[C-N]', 'SdssC', 'HyWi_B(m)', 'LOC', 'SM6_L',\n",
    "       'F03[C-O]', 'Me', 'Mi', 'nN-N', 'nArNO2', 'nCRX3', 'SpPosA_B(p)',\n",
    "       'nCIR', 'B01[C-Br]', 'B03[C-Cl]', 'N-073', 'SpMax_A', 'Psi_i_1d',\n",
    "       'B04[C-Br]', 'SdO', 'TI2_L', 'nCrt', 'C-026', 'F02[C-N]', 'nHDon',\n",
    "       'SpMax_B(m)', 'Psi_i_A', 'nN', 'SM6_B(m)', 'nArCOOR', 'nX']]#parameters\n",
    "y = df['experimental_class']#response\n",
    "df['experimental_class'] = df['experimental_class'].replace(['NRB'],'0')\n",
    "df['experimental_class'] = df['experimental_class'].replace(['RB'],'1')\n",
    "df['experimental_class'] = df['experimental_class'].astype(int)#convert response to 0 and 1 and as type int for neural network \n",
    "X = X.values #convert to numpy array\n",
    "y = y.values #convert to numpy array\n",
    "print(X.shape)\n",
    "print(y.shape)"
   ]
  },
  {
   "cell_type": "code",
   "execution_count": 8,
   "id": "8fe95439",
   "metadata": {},
   "outputs": [
    {
     "data": {
      "text/plain": [
       "dtype('int32')"
      ]
     },
     "execution_count": 8,
     "metadata": {},
     "output_type": "execute_result"
    }
   ],
   "source": [
    "df['experimental_class'].dtypes #check the response data type"
   ]
  },
  {
   "cell_type": "code",
   "execution_count": 9,
   "id": "47b39797",
   "metadata": {},
   "outputs": [],
   "source": [
    "from sklearn.preprocessing import LabelEncoder #normalize label to numerical labels\n",
    "lb = LabelEncoder()\n",
    "y = lb.fit_transform(y)"
   ]
  },
  {
   "cell_type": "code",
   "execution_count": 10,
   "id": "587bcf09",
   "metadata": {},
   "outputs": [
    {
     "name": "stdout",
     "output_type": "stream",
     "text": [
      "(949, 41)\n",
      "(106, 41)\n",
      "(211, 41)\n"
     ]
    }
   ],
   "source": [
    "from sklearn.preprocessing import MinMaxScaler\n",
    "from sklearn.model_selection import train_test_split\n",
    "seed_num = 10\n",
    "scaler = MinMaxScaler()\n",
    "X = scaler.fit_transform(X)\n",
    "X_train, X_test, y_train, y_test = train_test_split(X, y, test_size=0.2,random_state=seed_num)#split dataset to 8:2\n",
    "X_train, X_val, y_train, y_val = train_test_split(X, y, test_size=0.1,random_state=seed_num)#split dataset to 8:2\n",
    "print(X_train.shape)\n",
    "print(X_val.shape)\n",
    "print(X_test.shape) #get size"
   ]
  },
  {
   "cell_type": "code",
   "execution_count": 11,
   "id": "6f0b57bd",
   "metadata": {},
   "outputs": [],
   "source": [
    "from tensorflow.keras.models import Sequential #sequential container\n",
    "model = tf.keras.models.Sequential([\n",
    "tf.keras.layers.Input(shape=(41,)), #insert size\n",
    "tf.keras.layers.Dense(50, activation='relu', dtype='float64'),\n",
    "tf.keras.layers.Dense(1, activation='sigmoid', dtype='float64')\n",
    "])"
   ]
  },
  {
   "cell_type": "code",
   "execution_count": 12,
   "id": "cc759406",
   "metadata": {},
   "outputs": [
    {
     "name": "stdout",
     "output_type": "stream",
     "text": [
      "Model: \"sequential\"\n",
      "_________________________________________________________________\n",
      " Layer (type)                Output Shape              Param #   \n",
      "=================================================================\n",
      " dense (Dense)               (None, 50)                2100      \n",
      "                                                                 \n",
      " dense_1 (Dense)             (None, 1)                 51        \n",
      "                                                                 \n",
      "=================================================================\n",
      "Total params: 2,151\n",
      "Trainable params: 2,151\n",
      "Non-trainable params: 0\n",
      "_________________________________________________________________\n"
     ]
    }
   ],
   "source": [
    "model.summary() #summary of model"
   ]
  },
  {
   "cell_type": "code",
   "execution_count": 13,
   "id": "d985b3cd",
   "metadata": {},
   "outputs": [
    {
     "data": {
      "text/plain": [
       "array([[0.6457415]])"
      ]
     },
     "execution_count": 13,
     "metadata": {},
     "output_type": "execute_result"
    }
   ],
   "source": [
    "predictions = model(X_train[:1]).numpy() #perform prediction on first row\n",
    "predictions"
   ]
  },
  {
   "cell_type": "code",
   "execution_count": 14,
   "id": "5351f7ef",
   "metadata": {},
   "outputs": [],
   "source": [
    "loss_fn = tf.keras.losses.BinaryCrossentropy() # from_logits=False is the default # as reponse is 0 and 1 which is binary"
   ]
  },
  {
   "cell_type": "code",
   "execution_count": 15,
   "id": "d25bff9c",
   "metadata": {},
   "outputs": [
    {
     "data": {
      "text/plain": [
       "1.037728113094087"
      ]
     },
     "execution_count": 15,
     "metadata": {},
     "output_type": "execute_result"
    }
   ],
   "source": [
    "loss_fn(y_train[:1], predictions).numpy() #loss function"
   ]
  },
  {
   "cell_type": "code",
   "execution_count": 16,
   "id": "d2c21ea1",
   "metadata": {},
   "outputs": [],
   "source": [
    "model.compile(optimizer='adam', # to train model\n",
    "loss=loss_fn, # loss function\n",
    "metrics=['accuracy']) # metric to monitor the model"
   ]
  },
  {
   "cell_type": "code",
   "execution_count": 17,
   "id": "84591735",
   "metadata": {},
   "outputs": [
    {
     "name": "stdout",
     "output_type": "stream",
     "text": [
      "Epoch 1/200\n",
      "15/15 [==============================] - 1s 3ms/step - loss: 0.7826 - accuracy: 0.3878\n",
      "Epoch 2/200\n",
      "15/15 [==============================] - 0s 2ms/step - loss: 0.6264 - accuracy: 0.6407\n",
      "Epoch 3/200\n",
      "15/15 [==============================] - 0s 2ms/step - loss: 0.5866 - accuracy: 0.6554\n",
      "Epoch 4/200\n",
      "15/15 [==============================] - 0s 2ms/step - loss: 0.5636 - accuracy: 0.6554\n",
      "Epoch 5/200\n",
      "15/15 [==============================] - 0s 2ms/step - loss: 0.5431 - accuracy: 0.6596\n",
      "Epoch 6/200\n",
      "15/15 [==============================] - 0s 2ms/step - loss: 0.5251 - accuracy: 0.6934\n",
      "Epoch 7/200\n",
      "15/15 [==============================] - 0s 2ms/step - loss: 0.5076 - accuracy: 0.7271\n",
      "Epoch 8/200\n",
      "15/15 [==============================] - 0s 3ms/step - loss: 0.4916 - accuracy: 0.7597\n",
      "Epoch 9/200\n",
      "15/15 [==============================] - 0s 3ms/step - loss: 0.4763 - accuracy: 0.7850\n",
      "Epoch 10/200\n",
      "15/15 [==============================] - 0s 3ms/step - loss: 0.4644 - accuracy: 0.8040\n",
      "Epoch 11/200\n",
      "15/15 [==============================] - 0s 2ms/step - loss: 0.4505 - accuracy: 0.8072\n",
      "Epoch 12/200\n",
      "15/15 [==============================] - 0s 3ms/step - loss: 0.4398 - accuracy: 0.8072\n",
      "Epoch 13/200\n",
      "15/15 [==============================] - 0s 3ms/step - loss: 0.4292 - accuracy: 0.8124\n",
      "Epoch 14/200\n",
      "15/15 [==============================] - 0s 2ms/step - loss: 0.4208 - accuracy: 0.8135\n",
      "Epoch 15/200\n",
      "15/15 [==============================] - 0s 2ms/step - loss: 0.4123 - accuracy: 0.8093\n",
      "Epoch 16/200\n",
      "15/15 [==============================] - 0s 3ms/step - loss: 0.4042 - accuracy: 0.8188\n",
      "Epoch 17/200\n",
      "15/15 [==============================] - 0s 2ms/step - loss: 0.3977 - accuracy: 0.8166\n",
      "Epoch 18/200\n",
      "15/15 [==============================] - 0s 4ms/step - loss: 0.3921 - accuracy: 0.8177\n",
      "Epoch 19/200\n",
      "15/15 [==============================] - 0s 3ms/step - loss: 0.3866 - accuracy: 0.8282\n",
      "Epoch 20/200\n",
      "15/15 [==============================] - 0s 2ms/step - loss: 0.3806 - accuracy: 0.8261\n",
      "Epoch 21/200\n",
      "15/15 [==============================] - 0s 2ms/step - loss: 0.3763 - accuracy: 0.8282\n",
      "Epoch 22/200\n",
      "15/15 [==============================] - 0s 2ms/step - loss: 0.3719 - accuracy: 0.8314\n",
      "Epoch 23/200\n",
      "15/15 [==============================] - 0s 3ms/step - loss: 0.3686 - accuracy: 0.8325\n",
      "Epoch 24/200\n",
      "15/15 [==============================] - 0s 2ms/step - loss: 0.3655 - accuracy: 0.8398\n",
      "Epoch 25/200\n",
      "15/15 [==============================] - 0s 2ms/step - loss: 0.3619 - accuracy: 0.8377\n",
      "Epoch 26/200\n",
      "15/15 [==============================] - 0s 3ms/step - loss: 0.3585 - accuracy: 0.8409\n",
      "Epoch 27/200\n",
      "15/15 [==============================] - 0s 2ms/step - loss: 0.3555 - accuracy: 0.8388\n",
      "Epoch 28/200\n",
      "15/15 [==============================] - 0s 3ms/step - loss: 0.3545 - accuracy: 0.8409\n",
      "Epoch 29/200\n",
      "15/15 [==============================] - 0s 2ms/step - loss: 0.3546 - accuracy: 0.8451\n",
      "Epoch 30/200\n",
      "15/15 [==============================] - 0s 3ms/step - loss: 0.3531 - accuracy: 0.8462\n",
      "Epoch 31/200\n",
      "15/15 [==============================] - 0s 2ms/step - loss: 0.3486 - accuracy: 0.8493\n",
      "Epoch 32/200\n",
      "15/15 [==============================] - 0s 3ms/step - loss: 0.3456 - accuracy: 0.8514\n",
      "Epoch 33/200\n",
      "15/15 [==============================] - 0s 2ms/step - loss: 0.3438 - accuracy: 0.8419\n",
      "Epoch 34/200\n",
      "15/15 [==============================] - 0s 3ms/step - loss: 0.3411 - accuracy: 0.8599\n",
      "Epoch 35/200\n",
      "15/15 [==============================] - 0s 2ms/step - loss: 0.3390 - accuracy: 0.8462\n",
      "Epoch 36/200\n",
      "15/15 [==============================] - 0s 3ms/step - loss: 0.3377 - accuracy: 0.8472\n",
      "Epoch 37/200\n",
      "15/15 [==============================] - 0s 2ms/step - loss: 0.3367 - accuracy: 0.8525\n",
      "Epoch 38/200\n",
      "15/15 [==============================] - 0s 3ms/step - loss: 0.3349 - accuracy: 0.8546\n",
      "Epoch 39/200\n",
      "15/15 [==============================] - 0s 2ms/step - loss: 0.3338 - accuracy: 0.8493\n",
      "Epoch 40/200\n",
      "15/15 [==============================] - 0s 3ms/step - loss: 0.3333 - accuracy: 0.8567\n",
      "Epoch 41/200\n",
      "15/15 [==============================] - 0s 2ms/step - loss: 0.3323 - accuracy: 0.8588\n",
      "Epoch 42/200\n",
      "15/15 [==============================] - 0s 3ms/step - loss: 0.3302 - accuracy: 0.8567\n",
      "Epoch 43/200\n",
      "15/15 [==============================] - 0s 2ms/step - loss: 0.3290 - accuracy: 0.8588\n",
      "Epoch 44/200\n",
      "15/15 [==============================] - 0s 2ms/step - loss: 0.3286 - accuracy: 0.8546\n",
      "Epoch 45/200\n",
      "15/15 [==============================] - 0s 2ms/step - loss: 0.3268 - accuracy: 0.8588\n",
      "Epoch 46/200\n",
      "15/15 [==============================] - 0s 2ms/step - loss: 0.3268 - accuracy: 0.8620\n",
      "Epoch 47/200\n",
      "15/15 [==============================] - 0s 2ms/step - loss: 0.3264 - accuracy: 0.8546\n",
      "Epoch 48/200\n",
      "15/15 [==============================] - 0s 2ms/step - loss: 0.3243 - accuracy: 0.8651\n",
      "Epoch 49/200\n",
      "15/15 [==============================] - 0s 2ms/step - loss: 0.3238 - accuracy: 0.8620\n",
      "Epoch 50/200\n",
      "15/15 [==============================] - 0s 3ms/step - loss: 0.3240 - accuracy: 0.8641\n",
      "Epoch 51/200\n",
      "15/15 [==============================] - 0s 2ms/step - loss: 0.3233 - accuracy: 0.8672\n",
      "Epoch 52/200\n",
      "15/15 [==============================] - 0s 3ms/step - loss: 0.3223 - accuracy: 0.8630\n",
      "Epoch 53/200\n",
      "15/15 [==============================] - 0s 2ms/step - loss: 0.3220 - accuracy: 0.8609\n",
      "Epoch 54/200\n",
      "15/15 [==============================] - 0s 3ms/step - loss: 0.3208 - accuracy: 0.8704\n",
      "Epoch 55/200\n",
      "15/15 [==============================] - 0s 2ms/step - loss: 0.3199 - accuracy: 0.8693\n",
      "Epoch 56/200\n",
      "15/15 [==============================] - 0s 2ms/step - loss: 0.3186 - accuracy: 0.8672\n",
      "Epoch 57/200\n",
      "15/15 [==============================] - 0s 2ms/step - loss: 0.3196 - accuracy: 0.8662\n",
      "Epoch 58/200\n",
      "15/15 [==============================] - 0s 2ms/step - loss: 0.3180 - accuracy: 0.8693\n",
      "Epoch 59/200\n",
      "15/15 [==============================] - 0s 2ms/step - loss: 0.3188 - accuracy: 0.8693\n",
      "Epoch 60/200\n",
      "15/15 [==============================] - 0s 2ms/step - loss: 0.3172 - accuracy: 0.8704\n",
      "Epoch 61/200\n",
      "15/15 [==============================] - 0s 3ms/step - loss: 0.3171 - accuracy: 0.8683\n",
      "Epoch 62/200\n",
      "15/15 [==============================] - 0s 2ms/step - loss: 0.3153 - accuracy: 0.8672\n",
      "Epoch 63/200\n",
      "15/15 [==============================] - 0s 3ms/step - loss: 0.3151 - accuracy: 0.8725\n",
      "Epoch 64/200\n",
      "15/15 [==============================] - 0s 2ms/step - loss: 0.3142 - accuracy: 0.8725\n",
      "Epoch 65/200\n",
      "15/15 [==============================] - 0s 3ms/step - loss: 0.3142 - accuracy: 0.8693\n",
      "Epoch 66/200\n",
      "15/15 [==============================] - 0s 2ms/step - loss: 0.3155 - accuracy: 0.8683\n",
      "Epoch 67/200\n",
      "15/15 [==============================] - 0s 3ms/step - loss: 0.3141 - accuracy: 0.8788\n",
      "Epoch 68/200\n",
      "15/15 [==============================] - 0s 2ms/step - loss: 0.3137 - accuracy: 0.8725\n",
      "Epoch 69/200\n",
      "15/15 [==============================] - 0s 3ms/step - loss: 0.3139 - accuracy: 0.8757\n",
      "Epoch 70/200\n",
      "15/15 [==============================] - 0s 2ms/step - loss: 0.3128 - accuracy: 0.8662\n",
      "Epoch 71/200\n",
      "15/15 [==============================] - 0s 2ms/step - loss: 0.3114 - accuracy: 0.8778\n",
      "Epoch 72/200\n",
      "15/15 [==============================] - 0s 3ms/step - loss: 0.3128 - accuracy: 0.8778\n",
      "Epoch 73/200\n",
      "15/15 [==============================] - 0s 2ms/step - loss: 0.3112 - accuracy: 0.8778\n",
      "Epoch 74/200\n",
      "15/15 [==============================] - 0s 3ms/step - loss: 0.3103 - accuracy: 0.8736\n",
      "Epoch 75/200\n",
      "15/15 [==============================] - 0s 2ms/step - loss: 0.3099 - accuracy: 0.8820\n",
      "Epoch 76/200\n",
      "15/15 [==============================] - 0s 4ms/step - loss: 0.3095 - accuracy: 0.8767\n",
      "Epoch 77/200\n",
      "15/15 [==============================] - 0s 3ms/step - loss: 0.3098 - accuracy: 0.8788\n",
      "Epoch 78/200\n",
      "15/15 [==============================] - 0s 2ms/step - loss: 0.3112 - accuracy: 0.8746\n",
      "Epoch 79/200\n",
      "15/15 [==============================] - 0s 2ms/step - loss: 0.3090 - accuracy: 0.8788\n",
      "Epoch 80/200\n",
      "15/15 [==============================] - 0s 2ms/step - loss: 0.3091 - accuracy: 0.8799\n",
      "Epoch 81/200\n",
      "15/15 [==============================] - 0s 3ms/step - loss: 0.3079 - accuracy: 0.8767\n",
      "Epoch 82/200\n",
      "15/15 [==============================] - 0s 2ms/step - loss: 0.3076 - accuracy: 0.8778\n",
      "Epoch 83/200\n",
      "15/15 [==============================] - 0s 3ms/step - loss: 0.3072 - accuracy: 0.8799\n",
      "Epoch 84/200\n",
      "15/15 [==============================] - 0s 2ms/step - loss: 0.3072 - accuracy: 0.8809\n",
      "Epoch 85/200\n",
      "15/15 [==============================] - 0s 2ms/step - loss: 0.3065 - accuracy: 0.8809\n",
      "Epoch 86/200\n",
      "15/15 [==============================] - 0s 2ms/step - loss: 0.3072 - accuracy: 0.8799\n",
      "Epoch 87/200\n",
      "15/15 [==============================] - 0s 2ms/step - loss: 0.3061 - accuracy: 0.8862\n",
      "Epoch 88/200\n",
      "15/15 [==============================] - 0s 2ms/step - loss: 0.3050 - accuracy: 0.8809\n",
      "Epoch 89/200\n",
      "15/15 [==============================] - 0s 2ms/step - loss: 0.3062 - accuracy: 0.8767\n",
      "Epoch 90/200\n",
      "15/15 [==============================] - 0s 2ms/step - loss: 0.3069 - accuracy: 0.8799\n",
      "Epoch 91/200\n",
      "15/15 [==============================] - 0s 2ms/step - loss: 0.3057 - accuracy: 0.8757\n",
      "Epoch 92/200\n",
      "15/15 [==============================] - 0s 2ms/step - loss: 0.3055 - accuracy: 0.8820\n",
      "Epoch 93/200\n",
      "15/15 [==============================] - 0s 2ms/step - loss: 0.3045 - accuracy: 0.8830\n",
      "Epoch 94/200\n",
      "15/15 [==============================] - 0s 2ms/step - loss: 0.3058 - accuracy: 0.8746\n",
      "Epoch 95/200\n",
      "15/15 [==============================] - 0s 2ms/step - loss: 0.3077 - accuracy: 0.8872\n",
      "Epoch 96/200\n",
      "15/15 [==============================] - 0s 2ms/step - loss: 0.3052 - accuracy: 0.8746\n",
      "Epoch 97/200\n",
      "15/15 [==============================] - 0s 2ms/step - loss: 0.3039 - accuracy: 0.8788\n",
      "Epoch 98/200\n",
      "15/15 [==============================] - 0s 2ms/step - loss: 0.3041 - accuracy: 0.8799\n",
      "Epoch 99/200\n",
      "15/15 [==============================] - 0s 2ms/step - loss: 0.3028 - accuracy: 0.8799\n",
      "Epoch 100/200\n",
      "15/15 [==============================] - 0s 2ms/step - loss: 0.3024 - accuracy: 0.8841\n",
      "Epoch 101/200\n",
      "15/15 [==============================] - 0s 2ms/step - loss: 0.3024 - accuracy: 0.8820\n",
      "Epoch 102/200\n",
      "15/15 [==============================] - 0s 2ms/step - loss: 0.3033 - accuracy: 0.8788\n",
      "Epoch 103/200\n",
      "15/15 [==============================] - 0s 2ms/step - loss: 0.3023 - accuracy: 0.8862\n",
      "Epoch 104/200\n",
      "15/15 [==============================] - 0s 2ms/step - loss: 0.3018 - accuracy: 0.8809\n",
      "Epoch 105/200\n",
      "15/15 [==============================] - 0s 2ms/step - loss: 0.3011 - accuracy: 0.8809\n",
      "Epoch 106/200\n",
      "15/15 [==============================] - 0s 2ms/step - loss: 0.3008 - accuracy: 0.8820\n",
      "Epoch 107/200\n",
      "15/15 [==============================] - 0s 2ms/step - loss: 0.3007 - accuracy: 0.8799\n",
      "Epoch 108/200\n",
      "15/15 [==============================] - 0s 2ms/step - loss: 0.3000 - accuracy: 0.8799\n",
      "Epoch 109/200\n",
      "15/15 [==============================] - 0s 2ms/step - loss: 0.2995 - accuracy: 0.8830\n",
      "Epoch 110/200\n",
      "15/15 [==============================] - 0s 2ms/step - loss: 0.3001 - accuracy: 0.8799\n",
      "Epoch 111/200\n",
      "15/15 [==============================] - 0s 2ms/step - loss: 0.2996 - accuracy: 0.8851\n",
      "Epoch 112/200\n",
      "15/15 [==============================] - 0s 2ms/step - loss: 0.3010 - accuracy: 0.8820\n",
      "Epoch 113/200\n",
      "15/15 [==============================] - 0s 2ms/step - loss: 0.3005 - accuracy: 0.8841\n",
      "Epoch 114/200\n",
      "15/15 [==============================] - 0s 3ms/step - loss: 0.2984 - accuracy: 0.8841\n",
      "Epoch 115/200\n",
      "15/15 [==============================] - 0s 3ms/step - loss: 0.2981 - accuracy: 0.8820\n",
      "Epoch 116/200\n",
      "15/15 [==============================] - 0s 3ms/step - loss: 0.2985 - accuracy: 0.8841\n",
      "Epoch 117/200\n",
      "15/15 [==============================] - 0s 3ms/step - loss: 0.2982 - accuracy: 0.8851\n",
      "Epoch 118/200\n",
      "15/15 [==============================] - 0s 3ms/step - loss: 0.2994 - accuracy: 0.8809\n",
      "Epoch 119/200\n",
      "15/15 [==============================] - 0s 2ms/step - loss: 0.2967 - accuracy: 0.8851\n",
      "Epoch 120/200\n",
      "15/15 [==============================] - 0s 2ms/step - loss: 0.2973 - accuracy: 0.8851\n",
      "Epoch 121/200\n",
      "15/15 [==============================] - 0s 2ms/step - loss: 0.2974 - accuracy: 0.8830\n",
      "Epoch 122/200\n",
      "15/15 [==============================] - 0s 2ms/step - loss: 0.2979 - accuracy: 0.8820\n",
      "Epoch 123/200\n",
      "15/15 [==============================] - 0s 2ms/step - loss: 0.2959 - accuracy: 0.8830\n",
      "Epoch 124/200\n",
      "15/15 [==============================] - 0s 2ms/step - loss: 0.2956 - accuracy: 0.8820\n",
      "Epoch 125/200\n",
      "15/15 [==============================] - 0s 2ms/step - loss: 0.2954 - accuracy: 0.8830\n",
      "Epoch 126/200\n",
      "15/15 [==============================] - 0s 2ms/step - loss: 0.2959 - accuracy: 0.8830\n",
      "Epoch 127/200\n",
      "15/15 [==============================] - 0s 2ms/step - loss: 0.2954 - accuracy: 0.8862\n",
      "Epoch 128/200\n",
      "15/15 [==============================] - 0s 2ms/step - loss: 0.2955 - accuracy: 0.8841\n",
      "Epoch 129/200\n",
      "15/15 [==============================] - 0s 2ms/step - loss: 0.2949 - accuracy: 0.8830\n",
      "Epoch 130/200\n",
      "15/15 [==============================] - 0s 2ms/step - loss: 0.2938 - accuracy: 0.8809\n",
      "Epoch 131/200\n",
      "15/15 [==============================] - 0s 2ms/step - loss: 0.2950 - accuracy: 0.8830\n",
      "Epoch 132/200\n",
      "15/15 [==============================] - 0s 2ms/step - loss: 0.2941 - accuracy: 0.8830\n",
      "Epoch 133/200\n",
      "15/15 [==============================] - 0s 2ms/step - loss: 0.2974 - accuracy: 0.8904\n",
      "Epoch 134/200\n",
      "15/15 [==============================] - 0s 2ms/step - loss: 0.2959 - accuracy: 0.8830\n",
      "Epoch 135/200\n",
      "15/15 [==============================] - 0s 2ms/step - loss: 0.2939 - accuracy: 0.8820\n",
      "Epoch 136/200\n",
      "15/15 [==============================] - 0s 2ms/step - loss: 0.2935 - accuracy: 0.8851\n",
      "Epoch 137/200\n",
      "15/15 [==============================] - 0s 3ms/step - loss: 0.2937 - accuracy: 0.8830\n",
      "Epoch 138/200\n",
      "15/15 [==============================] - 0s 2ms/step - loss: 0.2917 - accuracy: 0.8862\n",
      "Epoch 139/200\n",
      "15/15 [==============================] - 0s 2ms/step - loss: 0.2922 - accuracy: 0.8841\n",
      "Epoch 140/200\n",
      "15/15 [==============================] - 0s 2ms/step - loss: 0.2917 - accuracy: 0.8862\n",
      "Epoch 141/200\n",
      "15/15 [==============================] - 0s 2ms/step - loss: 0.2935 - accuracy: 0.8883\n",
      "Epoch 142/200\n",
      "15/15 [==============================] - 0s 2ms/step - loss: 0.2923 - accuracy: 0.8830\n",
      "Epoch 143/200\n",
      "15/15 [==============================] - 0s 2ms/step - loss: 0.2914 - accuracy: 0.8851\n",
      "Epoch 144/200\n",
      "15/15 [==============================] - 0s 2ms/step - loss: 0.2936 - accuracy: 0.8788\n",
      "Epoch 145/200\n",
      "15/15 [==============================] - 0s 2ms/step - loss: 0.2923 - accuracy: 0.8894\n",
      "Epoch 146/200\n",
      "15/15 [==============================] - 0s 2ms/step - loss: 0.2911 - accuracy: 0.8830\n",
      "Epoch 147/200\n",
      "15/15 [==============================] - 0s 2ms/step - loss: 0.2906 - accuracy: 0.8862\n",
      "Epoch 148/200\n",
      "15/15 [==============================] - 0s 2ms/step - loss: 0.2931 - accuracy: 0.8862\n",
      "Epoch 149/200\n",
      "15/15 [==============================] - 0s 2ms/step - loss: 0.2904 - accuracy: 0.8872\n",
      "Epoch 150/200\n",
      "15/15 [==============================] - 0s 2ms/step - loss: 0.2910 - accuracy: 0.8841\n",
      "Epoch 151/200\n",
      "15/15 [==============================] - 0s 4ms/step - loss: 0.2900 - accuracy: 0.8883\n",
      "Epoch 152/200\n",
      "15/15 [==============================] - 0s 2ms/step - loss: 0.2917 - accuracy: 0.8872\n",
      "Epoch 153/200\n",
      "15/15 [==============================] - 0s 3ms/step - loss: 0.2894 - accuracy: 0.8841\n",
      "Epoch 154/200\n",
      "15/15 [==============================] - 0s 2ms/step - loss: 0.2884 - accuracy: 0.8894\n",
      "Epoch 155/200\n",
      "15/15 [==============================] - 0s 2ms/step - loss: 0.2892 - accuracy: 0.8872\n",
      "Epoch 156/200\n",
      "15/15 [==============================] - 0s 2ms/step - loss: 0.2909 - accuracy: 0.8851\n",
      "Epoch 157/200\n",
      "15/15 [==============================] - 0s 2ms/step - loss: 0.2878 - accuracy: 0.8883\n",
      "Epoch 158/200\n",
      "15/15 [==============================] - 0s 2ms/step - loss: 0.2883 - accuracy: 0.8883\n",
      "Epoch 159/200\n",
      "15/15 [==============================] - 0s 2ms/step - loss: 0.2889 - accuracy: 0.8862\n",
      "Epoch 160/200\n",
      "15/15 [==============================] - 0s 2ms/step - loss: 0.2884 - accuracy: 0.8967\n",
      "Epoch 161/200\n",
      "15/15 [==============================] - 0s 2ms/step - loss: 0.2868 - accuracy: 0.8862\n",
      "Epoch 162/200\n",
      "15/15 [==============================] - 0s 2ms/step - loss: 0.2870 - accuracy: 0.8904\n",
      "Epoch 163/200\n",
      "15/15 [==============================] - 0s 3ms/step - loss: 0.2861 - accuracy: 0.8883\n",
      "Epoch 164/200\n",
      "15/15 [==============================] - 0s 2ms/step - loss: 0.2863 - accuracy: 0.8883\n",
      "Epoch 165/200\n",
      "15/15 [==============================] - 0s 2ms/step - loss: 0.2864 - accuracy: 0.8915\n",
      "Epoch 166/200\n",
      "15/15 [==============================] - 0s 2ms/step - loss: 0.2864 - accuracy: 0.8894\n",
      "Epoch 167/200\n",
      "15/15 [==============================] - 0s 2ms/step - loss: 0.2857 - accuracy: 0.8862\n",
      "Epoch 168/200\n",
      "15/15 [==============================] - 0s 2ms/step - loss: 0.2865 - accuracy: 0.8894\n",
      "Epoch 169/200\n",
      "15/15 [==============================] - 0s 2ms/step - loss: 0.2852 - accuracy: 0.8936\n",
      "Epoch 170/200\n",
      "15/15 [==============================] - 0s 2ms/step - loss: 0.2859 - accuracy: 0.8851\n",
      "Epoch 171/200\n",
      "15/15 [==============================] - 0s 2ms/step - loss: 0.2847 - accuracy: 0.8915\n",
      "Epoch 172/200\n",
      "15/15 [==============================] - 0s 2ms/step - loss: 0.2842 - accuracy: 0.8915\n",
      "Epoch 173/200\n",
      "15/15 [==============================] - 0s 2ms/step - loss: 0.2845 - accuracy: 0.8872\n",
      "Epoch 174/200\n",
      "15/15 [==============================] - 0s 2ms/step - loss: 0.2870 - accuracy: 0.8904\n",
      "Epoch 175/200\n",
      "15/15 [==============================] - 0s 2ms/step - loss: 0.2847 - accuracy: 0.8809\n",
      "Epoch 176/200\n",
      "15/15 [==============================] - 0s 2ms/step - loss: 0.2843 - accuracy: 0.8978\n",
      "Epoch 177/200\n",
      "15/15 [==============================] - 0s 2ms/step - loss: 0.2879 - accuracy: 0.8841\n",
      "Epoch 178/200\n",
      "15/15 [==============================] - 0s 2ms/step - loss: 0.2845 - accuracy: 0.8904\n",
      "Epoch 179/200\n",
      "15/15 [==============================] - 0s 2ms/step - loss: 0.2836 - accuracy: 0.8872\n",
      "Epoch 180/200\n",
      "15/15 [==============================] - 0s 2ms/step - loss: 0.2842 - accuracy: 0.8894\n",
      "Epoch 181/200\n",
      "15/15 [==============================] - 0s 2ms/step - loss: 0.2827 - accuracy: 0.8862\n",
      "Epoch 182/200\n",
      "15/15 [==============================] - 0s 2ms/step - loss: 0.2841 - accuracy: 0.8957\n",
      "Epoch 183/200\n",
      "15/15 [==============================] - 0s 3ms/step - loss: 0.2825 - accuracy: 0.8862\n",
      "Epoch 184/200\n",
      "15/15 [==============================] - 0s 2ms/step - loss: 0.2840 - accuracy: 0.8925\n",
      "Epoch 185/200\n",
      "15/15 [==============================] - 0s 2ms/step - loss: 0.2838 - accuracy: 0.8862\n",
      "Epoch 186/200\n",
      "15/15 [==============================] - 0s 2ms/step - loss: 0.2814 - accuracy: 0.8925\n",
      "Epoch 187/200\n",
      "15/15 [==============================] - 0s 2ms/step - loss: 0.2815 - accuracy: 0.8936\n",
      "Epoch 188/200\n",
      "15/15 [==============================] - 0s 2ms/step - loss: 0.2822 - accuracy: 0.8883\n",
      "Epoch 189/200\n",
      "15/15 [==============================] - 0s 2ms/step - loss: 0.2810 - accuracy: 0.8925\n",
      "Epoch 190/200\n",
      "15/15 [==============================] - 0s 2ms/step - loss: 0.2814 - accuracy: 0.8946\n",
      "Epoch 191/200\n",
      "15/15 [==============================] - 0s 2ms/step - loss: 0.2828 - accuracy: 0.8894\n",
      "Epoch 192/200\n",
      "15/15 [==============================] - 0s 2ms/step - loss: 0.2794 - accuracy: 0.8904\n",
      "Epoch 193/200\n",
      "15/15 [==============================] - 0s 2ms/step - loss: 0.2790 - accuracy: 0.8904\n",
      "Epoch 194/200\n",
      "15/15 [==============================] - 0s 2ms/step - loss: 0.2798 - accuracy: 0.8925\n",
      "Epoch 195/200\n",
      "15/15 [==============================] - 0s 2ms/step - loss: 0.2801 - accuracy: 0.8872\n",
      "Epoch 196/200\n",
      "15/15 [==============================] - 0s 2ms/step - loss: 0.2802 - accuracy: 0.8936\n",
      "Epoch 197/200\n",
      "15/15 [==============================] - 0s 3ms/step - loss: 0.2786 - accuracy: 0.8904\n",
      "Epoch 198/200\n",
      "15/15 [==============================] - 0s 2ms/step - loss: 0.2785 - accuracy: 0.8915\n",
      "Epoch 199/200\n",
      "15/15 [==============================] - 0s 3ms/step - loss: 0.2786 - accuracy: 0.8946\n",
      "Epoch 200/200\n",
      "15/15 [==============================] - 0s 3ms/step - loss: 0.2804 - accuracy: 0.8915\n"
     ]
    },
    {
     "data": {
      "text/plain": [
       "<keras.callbacks.History at 0x20cc1470a90>"
      ]
     },
     "execution_count": 17,
     "metadata": {},
     "output_type": "execute_result"
    }
   ],
   "source": [
    "model.fit(X_train, y_train, batch_size=64, epochs=200) #train the model"
   ]
  },
  {
   "cell_type": "code",
   "execution_count": 18,
   "id": "2e1ad9be",
   "metadata": {},
   "outputs": [
    {
     "name": "stdout",
     "output_type": "stream",
     "text": [
      "7/7 [==============================] - 0s 4ms/step - loss: 0.2316 - accuracy: 0.8863\n"
     ]
    },
    {
     "data": {
      "text/plain": [
       "[0.23160220682621002, 0.8862559199333191]"
      ]
     },
     "execution_count": 18,
     "metadata": {},
     "output_type": "execute_result"
    }
   ],
   "source": [
    "model.evaluate(X_test, y_test, verbose=1)"
   ]
  },
  {
   "cell_type": "code",
   "execution_count": 19,
   "id": "ee6449d0",
   "metadata": {},
   "outputs": [
    {
     "name": "stdout",
     "output_type": "stream",
     "text": [
      "7/7 [==============================] - 0s 3ms/step\n",
      "0.8862559241706162\n",
      "[[134  13]\n",
      " [ 11  53]]\n",
      "              precision    recall  f1-score   support\n",
      "\n",
      "           0       0.92      0.91      0.92       147\n",
      "           1       0.80      0.83      0.82        64\n",
      "\n",
      "    accuracy                           0.89       211\n",
      "   macro avg       0.86      0.87      0.87       211\n",
      "weighted avg       0.89      0.89      0.89       211\n",
      "\n"
     ]
    }
   ],
   "source": [
    "from sklearn.metrics import accuracy_score, confusion_matrix, classification_report#print scores\n",
    "y_pred = model.predict(X_test)\n",
    "y_pred = np.round(y_pred) # round the predicted value y >= 0.5 is 1 else 0\n",
    "print(accuracy_score(y_test, y_pred))\n",
    "print(confusion_matrix(y_test, y_pred))\n",
    "print(classification_report(y_test, y_pred))"
   ]
  },
  {
   "cell_type": "markdown",
   "id": "8ffcecd9",
   "metadata": {},
   "source": [
    "### Reference: Lab 7b - Neural Networks"
   ]
  },
  {
   "cell_type": "markdown",
   "id": "885617a5",
   "metadata": {},
   "source": [
    "# Fuzzy Logic System"
   ]
  },
  {
   "cell_type": "code",
   "execution_count": 20,
   "id": "229c1ee1",
   "metadata": {},
   "outputs": [],
   "source": [
    "#pip install -U scikit-fuzzy\n",
    "#installed it to use fuzzy functions"
   ]
  },
  {
   "cell_type": "code",
   "execution_count": 21,
   "id": "587f649f",
   "metadata": {},
   "outputs": [],
   "source": [
    "import pandas as pd\n",
    "import numpy as np\n",
    "import skfuzzy as fuzz\n",
    "from skfuzzy import control as ctrl\n",
    "import matplotlib.pyplot as plt\n",
    "%matplotlib inline"
   ]
  },
  {
   "cell_type": "code",
   "execution_count": 22,
   "id": "a4279ae6",
   "metadata": {},
   "outputs": [],
   "source": [
    "#Chosen parameters to be used for fuzzy logic system\n",
    "#Parameters chosen using ANOVA\n",
    "SpMax_L = ctrl.Antecedent(np.arange(2, 8, 1), 'SpMax_L')\n",
    "J_Dze = ctrl.Antecedent(np.arange(0, 11, 1), 'J_Dze')\n",
    "nHM = ctrl.Antecedent(np.arange(0, 13, 1), 'nHM')\n",
    "SpMax_Bm = ctrl.Antecedent(np.arange(2, 12, 1), 'SpMax_Bm')\n",
    "nN = ctrl.Antecedent(np.arange(0, 9, 1), 'nN')\n",
    "SM6_Bm = ctrl.Antecedent(np.arange(4, 16, 1), 'SM6_Bm')\n",
    "experimental_class = ctrl.Consequent(np.arange(0, 2, 1), 'experimental_class')"
   ]
  },
  {
   "cell_type": "code",
   "execution_count": 23,
   "id": "5819a979",
   "metadata": {},
   "outputs": [],
   "source": [
    "SpMax_L['low'] = fuzz.trimf(SpMax_L.universe, [2, 2, 5]) # [start value, highest membership, last value]\n",
    "SpMax_L['medium'] = fuzz.trimf(SpMax_L.universe, [2, 5, 7])\n",
    "SpMax_L['high'] = fuzz.trimf(SpMax_L.universe, [5, 7, 7])"
   ]
  },
  {
   "cell_type": "code",
   "execution_count": 24,
   "id": "ff52ee42",
   "metadata": {},
   "outputs": [
    {
     "data": {
      "image/png": "[encoded data removed]",
      "text/plain": [
       "<Figure size 432x288 with 1 Axes>"
      ]
     },
     "metadata": {
      "needs_background": "light"
     },
     "output_type": "display_data"
    }
   ],
   "source": [
    "SpMax_L.view()"
   ]
  },
  {
   "cell_type": "code",
   "execution_count": 25,
   "id": "bc9e2084",
   "metadata": {},
   "outputs": [],
   "source": [
    "J_Dze['low'] = fuzz.trimf(J_Dze.universe, [0, 0, 5])\n",
    "J_Dze['medium'] = fuzz.trimf(J_Dze.universe, [0, 5, 10])\n",
    "J_Dze['high'] = fuzz.trimf(J_Dze.universe, [5, 10, 10])"
   ]
  },
  {
   "cell_type": "code",
   "execution_count": 26,
   "id": "59eb4514",
   "metadata": {},
   "outputs": [
    {
     "data": {
      "image/png": "[encoded data removed]",
      "text/plain": [
       "<Figure size 432x288 with 1 Axes>"
      ]
     },
     "metadata": {
      "needs_background": "light"
     },
     "output_type": "display_data"
    }
   ],
   "source": [
    "J_Dze.view()"
   ]
  },
  {
   "cell_type": "code",
   "execution_count": 27,
   "id": "c09bb4ef",
   "metadata": {},
   "outputs": [],
   "source": [
    "nHM['low'] = fuzz.trimf(nHM.universe, [0, 0, 3.5])\n",
    "nHM['medium'] = fuzz.trimf(nHM.universe, [0, 3.5, 12])\n",
    "nHM['high'] = fuzz.trimf(nHM.universe, [3.5, 12, 12])"
   ]
  },
  {
   "cell_type": "code",
   "execution_count": 28,
   "id": "a36dfa28",
   "metadata": {},
   "outputs": [
    {
     "data": {
      "image/png": "[encoded data removed]",
      "text/plain": [
       "<Figure size 432x288 with 1 Axes>"
      ]
     },
     "metadata": {
      "needs_background": "light"
     },
     "output_type": "display_data"
    }
   ],
   "source": [
    "nHM.view()"
   ]
  },
  {
   "cell_type": "code",
   "execution_count": 29,
   "id": "df6a2669",
   "metadata": {},
   "outputs": [],
   "source": [
    "SpMax_Bm['low'] = fuzz.trimf(SpMax_Bm.universe, [2, 2, 4])\n",
    "SpMax_Bm['medium'] = fuzz.trimf(SpMax_Bm.universe, [2, 4, 11])\n",
    "SpMax_Bm['high'] = fuzz.trimf(SpMax_Bm.universe, [4, 11, 11])"
   ]
  },
  {
   "cell_type": "code",
   "execution_count": 30,
   "id": "906e01ed",
   "metadata": {},
   "outputs": [
    {
     "data": {
      "image/png": "[encoded data removed]",
      "text/plain": [
       "<Figure size 432x288 with 1 Axes>"
      ]
     },
     "metadata": {
      "needs_background": "light"
     },
     "output_type": "display_data"
    }
   ],
   "source": [
    "SpMax_Bm.view()"
   ]
  },
  {
   "cell_type": "code",
   "execution_count": 31,
   "id": "b5efe4de",
   "metadata": {},
   "outputs": [],
   "source": [
    "nN['low'] = fuzz.trimf(nN.universe, [0, 0, 4])\n",
    "nN['medium'] = fuzz.trimf(nN.universe, [0, 4, 8])\n",
    "nN['high'] = fuzz.trimf(nN.universe, [4, 8, 8])"
   ]
  },
  {
   "cell_type": "code",
   "execution_count": 32,
   "id": "48ef4110",
   "metadata": {},
   "outputs": [
    {
     "data": {
      "image/png": "[encoded data removed]",
      "text/plain": [
       "<Figure size 432x288 with 1 Axes>"
      ]
     },
     "metadata": {
      "needs_background": "light"
     },
     "output_type": "display_data"
    }
   ],
   "source": [
    "nN.view()"
   ]
  },
  {
   "cell_type": "code",
   "execution_count": 33,
   "id": "0ef9063d",
   "metadata": {},
   "outputs": [],
   "source": [
    "SM6_Bm['low'] = fuzz.trimf(SM6_Bm.universe, [4, 4, 10])\n",
    "SM6_Bm['medium'] = fuzz.trimf(SM6_Bm.universe, [4, 10, 15])\n",
    "SM6_Bm['high'] = fuzz.trimf(SM6_Bm.universe, [10, 15, 15])"
   ]
  },
  {
   "cell_type": "code",
   "execution_count": 34,
   "id": "e1ace7e4",
   "metadata": {},
   "outputs": [
    {
     "data": {
      "image/png": "[encoded data removed]",
      "text/plain": [
       "<Figure size 432x288 with 1 Axes>"
      ]
     },
     "metadata": {
      "needs_background": "light"
     },
     "output_type": "display_data"
    }
   ],
   "source": [
    "SM6_Bm.view()"
   ]
  },
  {
   "cell_type": "code",
   "execution_count": 35,
   "id": "774f7752",
   "metadata": {},
   "outputs": [],
   "source": [
    "experimental_class['NRB'] = fuzz.trimf(experimental_class.universe, [0, 0, 0.5])\n",
    "experimental_class['RB'] = fuzz.trimf(experimental_class.universe, [0.5, 1, 1])"
   ]
  },
  {
   "cell_type": "code",
   "execution_count": 36,
   "id": "0c68b9f3",
   "metadata": {},
   "outputs": [
    {
     "data": {
      "image/png": "[encoded data removed]",
      "text/plain": [
       "<Figure size 432x288 with 1 Axes>"
      ]
     },
     "metadata": {
      "needs_background": "light"
     },
     "output_type": "display_data"
    }
   ],
   "source": [
    "experimental_class.view()"
   ]
  },
  {
   "cell_type": "code",
   "execution_count": 37,
   "id": "cf9af9e5",
   "metadata": {},
   "outputs": [],
   "source": [
    "#Fuzzy rules\n",
    "rule1 = ctrl.Rule(SpMax_L['low'] , experimental_class['RB'])\n",
    "rule2 = ctrl.Rule(SpMax_L['high'] , experimental_class['NRB'])\n",
    "rule3 = ctrl.Rule(J_Dze['low'] , experimental_class['RB'])\n",
    "rule4 = ctrl.Rule(J_Dze['high'] , experimental_class['NRB'])\n",
    "rule5 = ctrl.Rule(nHM['low'] , experimental_class['RB'])\n",
    "rule6 = ctrl.Rule(nHM['high'] , experimental_class['NRB'])\n",
    "rule7 = ctrl.Rule(SpMax_Bm['low'] , experimental_class['RB'])\n",
    "rule8 = ctrl.Rule(SpMax_Bm['high'] , experimental_class['NRB'])\n",
    "rule9 = ctrl.Rule(nN['low'] , experimental_class['RB'])\n",
    "rule10 = ctrl.Rule(nN['high'] , experimental_class['NRB'])\n",
    "rule11 = ctrl.Rule(SM6_Bm['low'] , experimental_class['RB'])\n",
    "rule12 = ctrl.Rule(SM6_Bm['high'] , experimental_class['NRB'])"
   ]
  },
  {
   "cell_type": "code",
   "execution_count": 38,
   "id": "8a78d4cd",
   "metadata": {},
   "outputs": [],
   "source": [
    "#insert rules \n",
    "experiment_ctrl = ctrl.ControlSystem([rule1, rule2, rule3, rule4, rule5, rule6, rule7, rule8, rule9, rule10, rule11, rule12])"
   ]
  },
  {
   "cell_type": "code",
   "execution_count": 42,
   "id": "c03acd73",
   "metadata": {},
   "outputs": [],
   "source": [
    "experiment = ctrl.ControlSystemSimulation(experiment_ctrl)#process input"
   ]
  },
  {
   "cell_type": "code",
   "execution_count": 43,
   "id": "b3e06dde",
   "metadata": {},
   "outputs": [],
   "source": [
    "df = pd.read_csv('biodeg.csv', sep=';') #read dataset"
   ]
  },
  {
   "cell_type": "code",
   "execution_count": 44,
   "id": "ba998331",
   "metadata": {},
   "outputs": [],
   "source": [
    "X = df[['SpMax_L','J_Dz(e)','nHM','SpMax_B(m)','nN','SM6_B(m)']]#features chosen using ANOVA\n",
    "y = df['experimental_class']"
   ]
  },
  {
   "cell_type": "code",
   "execution_count": 45,
   "id": "c801d382",
   "metadata": {},
   "outputs": [],
   "source": [
    "df['experimental_class'] = df['experimental_class'].replace(['NRB'],'0') #replacing response with 0 and 1 for prediction\n",
    "df['experimental_class'] = df['experimental_class'].replace(['RB'],'1')\n",
    "df['experimental_class'] = df['experimental_class'].astype(int)"
   ]
  },
  {
   "cell_type": "code",
   "execution_count": 46,
   "id": "b4cba840",
   "metadata": {},
   "outputs": [],
   "source": [
    "def fuzzypredict(X,y):#fuzzy prediction function\n",
    "    X1 = X['SpMax_L'].values\n",
    "    X2 = X['J_Dz(e)'].values\n",
    "    X3 = X['nHM'].values\n",
    "    X4 = X['SpMax_B(m)'].values\n",
    "    X5 = X['nN'].values\n",
    "    X6 = X['SM6_B(m)'].values\n",
    "    yhat = [3]*1055\n",
    "\n",
    "    \n",
    "    for i in range(1055):\n",
    "        experiment.input['SpMax_L']= X1#inputing values\n",
    "        experiment.input['J_Dze']= X2\n",
    "        experiment.input['nHM']= X3\n",
    "        experiment.input['SpMax_Bm']= X4\n",
    "        experiment.input['nN']= X5\n",
    "        experiment.input['SM6_Bm']= X6\n",
    "        experiment.compute()#predict values\n",
    "        yhat = experiment.output['experimental_class']#store value in array\n",
    "        \n",
    "        \n",
    "        \n",
    "          \n",
    "    return yhat\n"
   ]
  },
  {
   "cell_type": "code",
   "execution_count": 47,
   "id": "ce35bab0",
   "metadata": {},
   "outputs": [],
   "source": [
    "yhat = fuzzypredict(X, y) #function to predict #takes 3 minutes to load"
   ]
  },
  {
   "cell_type": "code",
   "execution_count": 48,
   "id": "6ca947a7",
   "metadata": {},
   "outputs": [
    {
     "name": "stdout",
     "output_type": "stream",
     "text": [
      "[0.66666667 0.66666667 0.66666667 ... 0.60087719 0.45957522 0.65446436]\n"
     ]
    }
   ],
   "source": [
    "print(yhat) #to see predicted values"
   ]
  },
  {
   "cell_type": "code",
   "execution_count": 49,
   "id": "6408a522",
   "metadata": {},
   "outputs": [],
   "source": [
    "for i in range(1055):#convert to 0 and 1 for comparison\n",
    "    if yhat[i] > 0.5:\n",
    "        yhat[i] = 1\n",
    "    else:\n",
    "        yhat[i] = 0"
   ]
  },
  {
   "cell_type": "code",
   "execution_count": 50,
   "id": "f741359d",
   "metadata": {},
   "outputs": [
    {
     "name": "stdout",
     "output_type": "stream",
     "text": [
      "[1. 1. 1. ... 1. 0. 1.]\n"
     ]
    }
   ],
   "source": [
    "print(yhat)"
   ]
  },
  {
   "cell_type": "code",
   "execution_count": 51,
   "id": "4f4c8335",
   "metadata": {},
   "outputs": [],
   "source": [
    "X = df[['SpMax_L','J_Dz(e)','nHM','SpMax_B(m)','nN','SM6_B(m)']]\n",
    "y = df['experimental_class']\n",
    "df['experimental_class'] = df['experimental_class'].replace(['NRB'],'0')\n",
    "df['experimental_class'] = df['experimental_class'].replace(['RB'],'1')\n",
    "df['experimental_class'] = df['experimental_class'].astype(int)"
   ]
  },
  {
   "cell_type": "code",
   "execution_count": 52,
   "id": "a7eba48b",
   "metadata": {},
   "outputs": [
    {
     "name": "stdout",
     "output_type": "stream",
     "text": [
      "0.3412322274881517\n",
      "[[  4 695]\n",
      " [  0 356]]\n",
      "              precision    recall  f1-score   support\n",
      "\n",
      "           0       1.00      0.01      0.01       699\n",
      "           1       0.34      1.00      0.51       356\n",
      "\n",
      "    accuracy                           0.34      1055\n",
      "   macro avg       0.67      0.50      0.26      1055\n",
      "weighted avg       0.78      0.34      0.18      1055\n",
      "\n"
     ]
    }
   ],
   "source": [
    "from sklearn.metrics import accuracy_score, confusion_matrix, classification_report #report scores\n",
    "print(accuracy_score(y, yhat))\n",
    "print(confusion_matrix(y, yhat))\n",
    "print(classification_report(y, yhat))"
   ]
  },
  {
   "cell_type": "markdown",
   "id": "8c0fca92",
   "metadata": {},
   "source": [
    "### Reference: https://pythonhosted.org/scikit-fuzzy/auto_examples/plot_tipping_problem_newapi.html"
   ]
  }
 ],
 "metadata": {
  "kernelspec": {
   "display_name": "Python 3 (ipykernel)",
   "language": "python",
   "name": "python3"
  },
  "language_info": {
   "codemirror_mode": {
    "name": "ipython",
    "version": 3
   },
   "file_extension": ".py",
   "mimetype": "text/x-python",
   "name": "python",
   "nbconvert_exporter": "python",
   "pygments_lexer": "ipython3",
   "version": "3.9.12"
  }
 },
 "nbformat": 4,
 "nbformat_minor": 5
}
